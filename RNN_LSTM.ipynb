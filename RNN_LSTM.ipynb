{
  "nbformat": 4,
  "nbformat_minor": 0,
  "metadata": {
    "colab": {
      "provenance": []
    },
    "kernelspec": {
      "name": "python3",
      "display_name": "Python 3"
    },
    "language_info": {
      "name": "python"
    }
  },
  "cells": [
    {
      "cell_type": "code",
      "execution_count": null,
      "metadata": {
        "id": "rr7OHYwKp4vr"
      },
      "outputs": [],
      "source": [
        "import numpy as np \n",
        "import pandas as pd "
      ]
    },
    {
      "cell_type": "code",
      "source": [
        "import os\n",
        "for dirname, _, filenames in os.walk('/kaggle/input/nlp-specialization-data/'):\n",
        "    print(dirname)"
      ],
      "metadata": {
        "id": "Owxh9TqUteRD"
      },
      "execution_count": null,
      "outputs": []
    },
    {
      "cell_type": "code",
      "source": [
        "def read_file(filepath):\n",
        "    \n",
        "    with open(filepath) as f:\n",
        "        str_text = f.read()\n",
        "    \n",
        "    return str_text"
      ],
      "metadata": {
        "id": "iQZ4xgQAtf8i"
      },
      "execution_count": null,
      "outputs": []
    },
    {
      "cell_type": "code",
      "source": [
        "len(\"rahul\")"
      ],
      "metadata": {
        "colab": {
          "base_uri": "https://localhost:8080/"
        },
        "id": "rlt1MC5Stmso",
        "outputId": "257e673e-6fdd-40f5-fad2-cf035f67b42a"
      },
      "execution_count": null,
      "outputs": [
        {
          "output_type": "execute_result",
          "data": {
            "text/plain": [
              "5"
            ]
          },
          "metadata": {},
          "execution_count": 4
        }
      ]
    },
    {
      "cell_type": "code",
      "source": [
        "len(read_file('/content/Novel - Moby-Dick By Herman Melville.txt'))"
      ],
      "metadata": {
        "colab": {
          "base_uri": "https://localhost:8080/"
        },
        "id": "WhPLBh-qtt_x",
        "outputId": "d246a11a-0680-4ba1-f356-ff1b303f3296"
      },
      "execution_count": null,
      "outputs": [
        {
          "output_type": "execute_result",
          "data": {
            "text/plain": [
              "1198622"
            ]
          },
          "metadata": {},
          "execution_count": 5
        }
      ]
    },
    {
      "cell_type": "code",
      "source": [
        "print(read_file('/content/Novel - Moby-Dick By Herman Melville.txt')[:5000])"
      ],
      "metadata": {
        "id": "t0HtyYvRug41",
        "colab": {
          "base_uri": "https://localhost:8080/"
        },
        "outputId": "b42e5b1e-b3ba-40c5-a852-3ac7dcd80377"
      },
      "execution_count": null,
      "outputs": [
        {
          "output_type": "stream",
          "name": "stdout",
          "text": [
            "CHAPTER 1\n",
            "\n",
            "Loomings.\n",
            "\n",
            "\n",
            "Call me Ishmael.  Some years ago--never mind how long\n",
            "precisely--having little or no money in my purse, and nothing\n",
            "particular to interest me on shore, I thought I would sail about a\n",
            "little and see the watery part of the world.  It is a way I have of\n",
            "driving off the spleen and regulating the circulation.  Whenever I\n",
            "find myself growing grim about the mouth; whenever it is a damp,\n",
            "drizzly November in my soul; whenever I find myself involuntarily\n",
            "pausing before coffin warehouses, and bringing up the rear of every\n",
            "funeral I meet; and especially whenever my hypos get such an upper\n",
            "hand of me, that it requires a strong moral principle to prevent me\n",
            "from deliberately stepping into the street, and methodically knocking\n",
            "people's hats off--then, I account it high time to get to sea as soon\n",
            "as I can.  This is my substitute for pistol and ball.  With a\n",
            "philosophical flourish Cato throws himself upon his sword; I quietly\n",
            "take to the ship.  There is nothing surprising in this.  If they but\n",
            "knew it, almost all men in their degree, some time or other, cherish\n",
            "very nearly the same feelings towards the ocean with me.\n",
            "\n",
            "There now is your insular city of the Manhattoes, belted round by\n",
            "wharves as Indian isles by coral reefs--commerce surrounds it with\n",
            "her surf.  Right and left, the streets take you waterward.  Its\n",
            "extreme downtown is the battery, where that noble mole is washed by\n",
            "waves, and cooled by breezes, which a few hours previous were out of\n",
            "sight of land.  Look at the crowds of water-gazers there.\n",
            "\n",
            "Circumambulate the city of a dreamy Sabbath afternoon.  Go from\n",
            "Corlears Hook to Coenties Slip, and from thence, by Whitehall,\n",
            "northward.  What do you see?--Posted like silent sentinels all around\n",
            "the town, stand thousands upon thousands of mortal men fixed in ocean\n",
            "reveries.  Some leaning against the spiles; some seated upon the\n",
            "pier-heads; some looking over the bulwarks of ships from China; some\n",
            "high aloft in the rigging, as if striving to get a still better\n",
            "seaward peep.  But these are all landsmen; of week days pent up in\n",
            "lath and plaster--tied to counters, nailed to benches, clinched to\n",
            "desks.  How then is this?  Are the green fields gone?  What do they\n",
            "here?\n",
            "\n",
            "But look! here come more crowds, pacing straight for the water, and\n",
            "seemingly bound for a dive.  Strange!  Nothing will content them but\n",
            "the extremest limit of the land; loitering under the shady lee of\n",
            "yonder warehouses will not suffice.  No.  They must get just as nigh\n",
            "the water as they possibly can without falling in.  And there they\n",
            "stand--miles of them--leagues.  Inlanders all, they come from lanes\n",
            "and alleys, streets and avenues--north, east, south, and west.  Yet\n",
            "here they all unite.  Tell me, does the magnetic virtue of the\n",
            "needles of the compasses of all those ships attract them thither?\n",
            "\n",
            "Once more.  Say you are in the country; in some high land of lakes.\n",
            "Take almost any path you please, and ten to one it carries you down\n",
            "in a dale, and leaves you there by a pool in the stream.  There is\n",
            "magic in it.  Let the most absent-minded of men be plunged in his\n",
            "deepest reveries--stand that man on his legs, set his feet a-going,\n",
            "and he will infallibly lead you to water, if water there be in all\n",
            "that region.  Should you ever be athirst in the great American\n",
            "desert, try this experiment, if your caravan happen to be supplied\n",
            "with a metaphysical professor.  Yes, as every one knows, meditation\n",
            "and water are wedded for ever.\n",
            "\n",
            "But here is an artist.  He desires to paint you the dreamiest,\n",
            "shadiest, quietest, most enchanting bit of romantic landscape in all\n",
            "the valley of the Saco.  What is the chief element he employs?  There\n",
            "stand his trees, each with a hollow trunk, as if a hermit and a\n",
            "crucifix were within; and here sleeps his meadow, and there sleep his\n",
            "cattle; and up from yonder cottage goes a sleepy smoke.  Deep into\n",
            "distant woodlands winds a mazy way, reaching to overlapping spurs of\n",
            "mountains bathed in their hill-side blue.  But though the picture\n",
            "lies thus tranced, and though this pine-tree shakes down its sighs\n",
            "like leaves upon this shepherd's head, yet all were vain, unless the\n",
            "shepherd's eye were fixed upon the magic stream before him.  Go visit\n",
            "the Prairies in June, when for scores on scores of miles you wade\n",
            "knee-deep among Tiger-lilies--what is the one charm\n",
            "wanting?--Water--there is not a drop of water there!  Were Niagara\n",
            "but a cataract of sand, would you travel your thousand miles to see\n",
            "it?  Why did the poor poet of Tennessee, upon suddenly receiving two\n",
            "handfuls of silver, deliberate whether to buy him a coat, which he\n",
            "sadly needed, or invest his money in a pedestrian trip to Rockaway\n",
            "Beach?  Why is almost every robust healthy boy with a robust healthy\n",
            "soul in him, at some time or other crazy to go to sea?  Why upon your\n",
            "first voyage as a passenger, did you yourself feel such a mystical\n",
            "vibration, when first told that you and your ship were now out of\n",
            "sight of land?  Why did the old Persians hold the sea holy?  Why did\n",
            "the Greeks \n"
          ]
        }
      ]
    },
    {
      "cell_type": "code",
      "source": [
        "import spacy\n",
        "import en_core_web_sm\n",
        "\n",
        "nlp = en_core_web_sm.load()\n",
        "nlp.max_length = 1198623"
      ],
      "metadata": {
        "id": "uIJ-C919Er0T"
      },
      "execution_count": null,
      "outputs": []
    },
    {
      "cell_type": "code",
      "source": [
        "def read_file(filepath):\n",
        "    \n",
        "    with open(filepath) as f:\n",
        "        str_text = f.read()\n",
        "    \n",
        "    return str_text[:250000]"
      ],
      "metadata": {
        "id": "LeFuzw27Eybl"
      },
      "execution_count": null,
      "outputs": []
    },
    {
      "cell_type": "code",
      "source": [
        "def separate_punc(doc_text):\n",
        "    return [token.text.lower() for token in nlp(doc_text) if token.text not in '\\n\\n \\n\\n\\n!\"-#$%&()--.*+,-/:;<=>?@[\\\\]^_`{|}~\\t\\n ']"
      ],
      "metadata": {
        "id": "TG2nyiM-E3YS"
      },
      "execution_count": null,
      "outputs": []
    },
    {
      "cell_type": "code",
      "source": [
        "d = read_file('/content/Novel - Moby-Dick By Herman Melville.txt')\n",
        "tokens = separate_punc(d)"
      ],
      "metadata": {
        "id": "8p74VscME8mB"
      },
      "execution_count": null,
      "outputs": []
    },
    {
      "cell_type": "code",
      "source": [
        "type(tokens)"
      ],
      "metadata": {
        "colab": {
          "base_uri": "https://localhost:8080/"
        },
        "id": "pcIjX9GaFHLT",
        "outputId": "2faa20a2-776d-444f-bc76-4c3c6f6b5e9c"
      },
      "execution_count": null,
      "outputs": [
        {
          "output_type": "execute_result",
          "data": {
            "text/plain": [
              "list"
            ]
          },
          "metadata": {},
          "execution_count": 13
        }
      ]
    },
    {
      "cell_type": "code",
      "source": [
        "len(tokens)"
      ],
      "metadata": {
        "colab": {
          "base_uri": "https://localhost:8080/"
        },
        "id": "xHMsVc7GFAxE",
        "outputId": "e9a21a71-9d53-442b-c9b8-e7f00c3ed405"
      },
      "execution_count": null,
      "outputs": [
        {
          "output_type": "execute_result",
          "data": {
            "text/plain": [
              "45279"
            ]
          },
          "metadata": {},
          "execution_count": 14
        }
      ]
    },
    {
      "cell_type": "code",
      "source": [
        "tokens[:10]"
      ],
      "metadata": {
        "colab": {
          "base_uri": "https://localhost:8080/"
        },
        "id": "XL12TB4YFR8v",
        "outputId": "458ca9e4-9892-4d12-ad7e-41e2741de32e"
      },
      "execution_count": null,
      "outputs": [
        {
          "output_type": "execute_result",
          "data": {
            "text/plain": [
              "['chapter',\n",
              " '1',\n",
              " 'loomings',\n",
              " 'call',\n",
              " 'me',\n",
              " 'ishmael',\n",
              " 'some',\n",
              " 'years',\n",
              " 'ago',\n",
              " 'never']"
            ]
          },
          "metadata": {},
          "execution_count": 15
        }
      ]
    },
    {
      "cell_type": "code",
      "source": [
        "# organize into sequences of tokens\n",
        "train_len = 25+1 # 25 training words , then one target word\n",
        "\n",
        "# Empty list of sequences\n",
        "text_sequences = []\n",
        "\n",
        "for i in range(train_len, len(tokens)):\n",
        "    \n",
        "    # Grab train_len# amount of characters\n",
        "    seq = tokens[i-train_len:i]\n",
        "    \n",
        "    # Add to list of sequences\n",
        "    text_sequences.append(seq)"
      ],
      "metadata": {
        "id": "IWF3WrZ2FR_C"
      },
      "execution_count": null,
      "outputs": []
    },
    {
      "cell_type": "code",
      "source": [
        "print(read_file('/content/Novel - Moby-Dick By Herman Melville.txt')[:1000])"
      ],
      "metadata": {
        "colab": {
          "base_uri": "https://localhost:8080/"
        },
        "id": "0wJtQXZrFSDK",
        "outputId": "2a77ffce-85f4-4814-b8fc-f5807cbc3ddd"
      },
      "execution_count": null,
      "outputs": [
        {
          "output_type": "stream",
          "name": "stdout",
          "text": [
            "CHAPTER 1\n",
            "\n",
            "Loomings.\n",
            "\n",
            "\n",
            "Call me Ishmael.  Some years ago--never mind how long\n",
            "precisely--having little or no money in my purse, and nothing\n",
            "particular to interest me on shore, I thought I would sail about a\n",
            "little and see the watery part of the world.  It is a way I have of\n",
            "driving off the spleen and regulating the circulation.  Whenever I\n",
            "find myself growing grim about the mouth; whenever it is a damp,\n",
            "drizzly November in my soul; whenever I find myself involuntarily\n",
            "pausing before coffin warehouses, and bringing up the rear of every\n",
            "funeral I meet; and especially whenever my hypos get such an upper\n",
            "hand of me, that it requires a strong moral principle to prevent me\n",
            "from deliberately stepping into the street, and methodically knocking\n",
            "people's hats off--then, I account it high time to get to sea as soon\n",
            "as I can.  This is my substitute for pistol and ball.  With a\n",
            "philosophical flourish Cato throws himself upon his sword; I quietly\n",
            "take to the ship.  There is nothing surprising in this\n"
          ]
        }
      ]
    },
    {
      "cell_type": "code",
      "source": [
        "' '.join(text_sequences[0])"
      ],
      "metadata": {
        "colab": {
          "base_uri": "https://localhost:8080/",
          "height": 53
        },
        "id": "-HAY7JIpFSF8",
        "outputId": "e76c1c4c-3794-47f9-e4f7-e85a76f04765"
      },
      "execution_count": null,
      "outputs": [
        {
          "output_type": "execute_result",
          "data": {
            "text/plain": [
              "'chapter 1 loomings call me ishmael some years ago never mind how long precisely having little or no money in my purse and nothing particular to'"
            ],
            "application/vnd.google.colaboratory.intrinsic+json": {
              "type": "string"
            }
          },
          "metadata": {},
          "execution_count": 21
        }
      ]
    },
    {
      "cell_type": "code",
      "source": [
        "' '.join(text_sequences[1])"
      ],
      "metadata": {
        "colab": {
          "base_uri": "https://localhost:8080/",
          "height": 53
        },
        "id": "OFzKoKAgHPVk",
        "outputId": "20e4448a-97d2-4f34-b772-561729e33a5c"
      },
      "execution_count": null,
      "outputs": [
        {
          "output_type": "execute_result",
          "data": {
            "text/plain": [
              "'1 loomings call me ishmael some years ago never mind how long precisely having little or no money in my purse and nothing particular to interest'"
            ],
            "application/vnd.google.colaboratory.intrinsic+json": {
              "type": "string"
            }
          },
          "metadata": {},
          "execution_count": 22
        }
      ]
    },
    {
      "cell_type": "code",
      "source": [
        "' '.join(text_sequences[2])"
      ],
      "metadata": {
        "colab": {
          "base_uri": "https://localhost:8080/",
          "height": 53
        },
        "id": "8svTePF8HTWf",
        "outputId": "922478f3-48c7-45d5-b882-b9077c6c6c33"
      },
      "execution_count": null,
      "outputs": [
        {
          "output_type": "execute_result",
          "data": {
            "text/plain": [
              "'loomings call me ishmael some years ago never mind how long precisely having little or no money in my purse and nothing particular to interest me'"
            ],
            "application/vnd.google.colaboratory.intrinsic+json": {
              "type": "string"
            }
          },
          "metadata": {},
          "execution_count": 23
        }
      ]
    },
    {
      "cell_type": "code",
      "source": [
        "len(text_sequences)"
      ],
      "metadata": {
        "colab": {
          "base_uri": "https://localhost:8080/"
        },
        "id": "UzThIw1DHiaA",
        "outputId": "b1e85518-47e3-48fa-ff14-825be88cb91c"
      },
      "execution_count": null,
      "outputs": [
        {
          "output_type": "execute_result",
          "data": {
            "text/plain": [
              "45253"
            ]
          },
          "metadata": {},
          "execution_count": 24
        }
      ]
    },
    {
      "cell_type": "code",
      "source": [
        "len(tokens)"
      ],
      "metadata": {
        "colab": {
          "base_uri": "https://localhost:8080/"
        },
        "id": "BEGKbk_wP836",
        "outputId": "9567384f-344e-4328-be5c-59c5d72a3423"
      },
      "execution_count": null,
      "outputs": [
        {
          "output_type": "execute_result",
          "data": {
            "text/plain": [
              "45279"
            ]
          },
          "metadata": {},
          "execution_count": 25
        }
      ]
    },
    {
      "cell_type": "code",
      "source": [
        "print(len(text_sequences[0]))\n",
        "print(text_sequences[0])"
      ],
      "metadata": {
        "colab": {
          "base_uri": "https://localhost:8080/"
        },
        "id": "C9acVTw-QCTD",
        "outputId": "019d5dda-1519-40d6-f22a-6c2503d495a1"
      },
      "execution_count": null,
      "outputs": [
        {
          "output_type": "stream",
          "name": "stdout",
          "text": [
            "26\n",
            "['chapter', '1', 'loomings', 'call', 'me', 'ishmael', 'some', 'years', 'ago', 'never', 'mind', 'how', 'long', 'precisely', 'having', 'little', 'or', 'no', 'money', 'in', 'my', 'purse', 'and', 'nothing', 'particular', 'to']\n"
          ]
        }
      ]
    },
    {
      "cell_type": "code",
      "source": [
        "from keras.preprocessing.text import Tokenizer"
      ],
      "metadata": {
        "id": "KMBYdVCtQJZZ"
      },
      "execution_count": null,
      "outputs": []
    },
    {
      "cell_type": "code",
      "source": [
        "tokenizer = Tokenizer()\n",
        "tokenizer.fit_on_texts(text_sequences)\n",
        "sequences = tokenizer.texts_to_sequences(text_sequences)"
      ],
      "metadata": {
        "id": "eaBlw9eXRcbI"
      },
      "execution_count": null,
      "outputs": []
    },
    {
      "cell_type": "code",
      "source": [
        "print(len(sequences[0]))\n",
        "print(sequences[0])"
      ],
      "metadata": {
        "colab": {
          "base_uri": "https://localhost:8080/"
        },
        "id": "sh1-YfAKRk9r",
        "outputId": "8cde9419-4e8b-428f-b26b-abe11208dfef"
      },
      "execution_count": null,
      "outputs": [
        {
          "output_type": "stream",
          "name": "stdout",
          "text": [
            "26\n",
            "[187, 7000, 6999, 516, 24, 432, 65, 232, 640, 100, 223, 99, 93, 1331, 277, 68, 48, 36, 639, 6, 31, 1028, 2, 150, 431, 5]\n"
          ]
        }
      ]
    },
    {
      "cell_type": "code",
      "source": [
        "type(tokenizer.index_word)"
      ],
      "metadata": {
        "colab": {
          "base_uri": "https://localhost:8080/"
        },
        "id": "--3GWN3JR0Mx",
        "outputId": "c76b0bf3-513c-452b-cbf8-446daea3baa4"
      },
      "execution_count": null,
      "outputs": [
        {
          "output_type": "execute_result",
          "data": {
            "text/plain": [
              "dict"
            ]
          },
          "metadata": {},
          "execution_count": 30
        }
      ]
    },
    {
      "cell_type": "code",
      "source": [
        "' '.join(text_sequences[0])"
      ],
      "metadata": {
        "colab": {
          "base_uri": "https://localhost:8080/",
          "height": 53
        },
        "id": "o04VkZELSDEV",
        "outputId": "d748ac0e-8684-42b9-c4d4-2b5ce23bc247"
      },
      "execution_count": null,
      "outputs": [
        {
          "output_type": "execute_result",
          "data": {
            "text/plain": [
              "'chapter 1 loomings call me ishmael some years ago never mind how long precisely having little or no money in my purse and nothing particular to'"
            ],
            "application/vnd.google.colaboratory.intrinsic+json": {
              "type": "string"
            }
          },
          "metadata": {},
          "execution_count": 31
        }
      ]
    },
    {
      "cell_type": "code",
      "source": [
        "i=0\n",
        "for a in tokenizer.index_word:\n",
        "    print(a,\"--->\",tokenizer.index_word[a])\n",
        "    i+=1\n",
        "    if i==20 : break "
      ],
      "metadata": {
        "colab": {
          "base_uri": "https://localhost:8080/"
        },
        "id": "c6mrj51fSQQb",
        "outputId": "b95614d4-ce35-4648-a55a-da944ca02f75"
      },
      "execution_count": null,
      "outputs": [
        {
          "output_type": "stream",
          "name": "stdout",
          "text": [
            "1 ---> the\n",
            "2 ---> and\n",
            "3 ---> of\n",
            "4 ---> a\n",
            "5 ---> to\n",
            "6 ---> in\n",
            "7 ---> i\n",
            "8 ---> that\n",
            "9 ---> his\n",
            "10 ---> he\n",
            "11 ---> it\n",
            "12 ---> was\n",
            "13 ---> but\n",
            "14 ---> with\n",
            "15 ---> all\n",
            "16 ---> for\n",
            "17 ---> as\n",
            "18 ---> 's\n",
            "19 ---> at\n",
            "20 ---> is\n"
          ]
        }
      ]
    },
    {
      "cell_type": "code",
      "source": [
        "for i in sequences[0]:\n",
        "    print(f'{i} : {tokenizer.index_word[i]}')"
      ],
      "metadata": {
        "colab": {
          "base_uri": "https://localhost:8080/"
        },
        "id": "WmP9UE-fSeyd",
        "outputId": "8a9a3bc0-85b5-4e23-9903-dea72fd23c73"
      },
      "execution_count": null,
      "outputs": [
        {
          "output_type": "stream",
          "name": "stdout",
          "text": [
            "187 : chapter\n",
            "7000 : 1\n",
            "6999 : loomings\n",
            "516 : call\n",
            "24 : me\n",
            "432 : ishmael\n",
            "65 : some\n",
            "232 : years\n",
            "640 : ago\n",
            "100 : never\n",
            "223 : mind\n",
            "99 : how\n",
            "93 : long\n",
            "1331 : precisely\n",
            "277 : having\n",
            "68 : little\n",
            "48 : or\n",
            "36 : no\n",
            "639 : money\n",
            "6 : in\n",
            "31 : my\n",
            "1028 : purse\n",
            "2 : and\n",
            "150 : nothing\n",
            "431 : particular\n",
            "5 : to\n"
          ]
        }
      ]
    },
    {
      "cell_type": "code",
      "source": [
        "i=0\n",
        "for a in tokenizer.word_counts:\n",
        "    print((a,tokenizer.word_counts[a]))\n",
        "    i+=1\n",
        "    if i==10 : break "
      ],
      "metadata": {
        "colab": {
          "base_uri": "https://localhost:8080/"
        },
        "id": "LSK19Z8ZSrMY",
        "outputId": "9a03700d-294e-44c1-ca10-82fc36a91635"
      },
      "execution_count": null,
      "outputs": [
        {
          "output_type": "stream",
          "name": "stdout",
          "text": [
            "('chapter', 807)\n",
            "('1', 2)\n",
            "('loomings', 3)\n",
            "('call', 238)\n",
            "('me', 6214)\n",
            "('ishmael', 292)\n",
            "('some', 2451)\n",
            "('years', 606)\n",
            "('ago', 191)\n",
            "('never', 1700)\n"
          ]
        }
      ]
    },
    {
      "cell_type": "code",
      "source": [
        "vocabulary_size = len(tokenizer.word_counts)\n",
        "vocabulary_size"
      ],
      "metadata": {
        "colab": {
          "base_uri": "https://localhost:8080/"
        },
        "id": "EfV2prmySv9P",
        "outputId": "cde4c525-4ba6-4f6e-c9f4-e9ced1462cdc"
      },
      "execution_count": null,
      "outputs": [
        {
          "output_type": "execute_result",
          "data": {
            "text/plain": [
              "7000"
            ]
          },
          "metadata": {},
          "execution_count": 35
        }
      ]
    },
    {
      "cell_type": "code",
      "source": [
        "i=6990\n",
        "for a in range(i,7000):\n",
        "    print(a,\"--->\",tokenizer.index_word[a])\n",
        "    #i+=1\n",
        "    #if i==6999 : break "
      ],
      "metadata": {
        "colab": {
          "base_uri": "https://localhost:8080/"
        },
        "id": "TWz9Jg8nS06Z",
        "outputId": "faa3d100-ddc1-48f6-b8cf-1b76f90bb7d1"
      },
      "execution_count": null,
      "outputs": [
        {
          "output_type": "stream",
          "name": "stdout",
          "text": [
            "6990 ---> subtle\n",
            "6991 ---> conceived\n",
            "6992 ---> poorly\n",
            "6993 ---> moods\n",
            "6994 ---> whimsicalities\n",
            "6995 ---> apprehensiveness\n",
            "6996 ---> uneasiness\n",
            "6997 ---> warrantry\n",
            "6998 ---> emotions\n",
            "6999 ---> loomings\n"
          ]
        }
      ]
    },
    {
      "cell_type": "code",
      "source": [
        "import numpy as np"
      ],
      "metadata": {
        "id": "tCqbLofqS5H0"
      },
      "execution_count": null,
      "outputs": []
    },
    {
      "cell_type": "code",
      "source": [
        "len(sequences)"
      ],
      "metadata": {
        "colab": {
          "base_uri": "https://localhost:8080/"
        },
        "id": "CCboijx-S92w",
        "outputId": "3b131df6-7339-4b63-db1b-e593b3485066"
      },
      "execution_count": null,
      "outputs": [
        {
          "output_type": "execute_result",
          "data": {
            "text/plain": [
              "45253"
            ]
          },
          "metadata": {},
          "execution_count": 38
        }
      ]
    },
    {
      "cell_type": "code",
      "source": [
        "len(sequences[0])"
      ],
      "metadata": {
        "colab": {
          "base_uri": "https://localhost:8080/"
        },
        "id": "rsBXro5WTKu2",
        "outputId": "5db7668e-69f8-4de1-fdcb-0c9e8f6845ed"
      },
      "execution_count": null,
      "outputs": [
        {
          "output_type": "execute_result",
          "data": {
            "text/plain": [
              "26"
            ]
          },
          "metadata": {},
          "execution_count": 39
        }
      ]
    },
    {
      "cell_type": "code",
      "source": [
        "sequences = np.array(sequences)"
      ],
      "metadata": {
        "id": "VdjjMf_UUCUF"
      },
      "execution_count": null,
      "outputs": []
    },
    {
      "cell_type": "code",
      "source": [
        "sequences.shape"
      ],
      "metadata": {
        "colab": {
          "base_uri": "https://localhost:8080/"
        },
        "id": "_Dx3kp5iUGnP",
        "outputId": "8371c3a9-c15e-42e6-fa2f-b4186d1f093b"
      },
      "execution_count": null,
      "outputs": [
        {
          "output_type": "execute_result",
          "data": {
            "text/plain": [
              "(45253, 26)"
            ]
          },
          "metadata": {},
          "execution_count": 42
        }
      ]
    },
    {
      "cell_type": "code",
      "source": [
        "sequences"
      ],
      "metadata": {
        "colab": {
          "base_uri": "https://localhost:8080/"
        },
        "id": "RkeIO-kbTKx8",
        "outputId": "7900c72e-a0d8-4965-8dcf-2ad7349251ae"
      },
      "execution_count": null,
      "outputs": [
        {
          "output_type": "execute_result",
          "data": {
            "text/plain": [
              "array([[ 187, 7000, 6999, ...,  150,  431,    5],\n",
              "       [7000, 6999,  516, ...,  431,    5,  734],\n",
              "       [6999,  516,   24, ...,    5,  734,   24],\n",
              "       ...,\n",
              "       [  86,  578,    7, ...,  472,   14,    1],\n",
              "       [ 578,    7,  171, ...,   14,    1,  111],\n",
              "       [   7,  171,    5, ...,    1,  111,  577]])"
            ]
          },
          "metadata": {},
          "execution_count": 43
        }
      ]
    },
    {
      "cell_type": "code",
      "source": [
        "import keras\n",
        "from keras.models import Sequential\n",
        "from keras.layers import Dense,LSTM,Embedding"
      ],
      "metadata": {
        "id": "2U9pjwbNUSKJ"
      },
      "execution_count": null,
      "outputs": []
    },
    {
      "cell_type": "code",
      "source": [
        "def create_model(vocabulary_size, seq_len):\n",
        "    model = Sequential()\n",
        "    model.add(Embedding(vocabulary_size, 25, input_length=seq_len))\n",
        "    model.add(LSTM(150, return_sequences=True))\n",
        "    model.add(LSTM(150))\n",
        "    model.add(Dense(150, activation='relu'))\n",
        "\n",
        "    model.add(Dense(vocabulary_size, activation='softmax'))\n",
        "    \n",
        "    model.compile(loss='categorical_crossentropy', optimizer='adam', metrics=['accuracy'])\n",
        "   \n",
        "    model.summary()\n",
        "    \n",
        "    return model"
      ],
      "metadata": {
        "id": "sdYw_fHOUnAv"
      },
      "execution_count": null,
      "outputs": []
    },
    {
      "cell_type": "code",
      "source": [
        "from tensorflow.keras.utils import to_categorical"
      ],
      "metadata": {
        "id": "r9LgU-j1UnOS"
      },
      "execution_count": null,
      "outputs": []
    },
    {
      "cell_type": "code",
      "source": [
        "print(sequences.shape)\n",
        "sequences"
      ],
      "metadata": {
        "colab": {
          "base_uri": "https://localhost:8080/"
        },
        "id": "bJRyBjhhUSTo",
        "outputId": "c1da2b79-1c7e-4847-cdf8-7704b1f7f00a"
      },
      "execution_count": null,
      "outputs": [
        {
          "output_type": "stream",
          "name": "stdout",
          "text": [
            "(45253, 26)\n"
          ]
        },
        {
          "output_type": "execute_result",
          "data": {
            "text/plain": [
              "array([[ 187, 7000, 6999, ...,  150,  431,    5],\n",
              "       [7000, 6999,  516, ...,  431,    5,  734],\n",
              "       [6999,  516,   24, ...,    5,  734,   24],\n",
              "       ...,\n",
              "       [  86,  578,    7, ...,  472,   14,    1],\n",
              "       [ 578,    7,  171, ...,   14,    1,  111],\n",
              "       [   7,  171,    5, ...,    1,  111,  577]])"
            ]
          },
          "metadata": {},
          "execution_count": 47
        }
      ]
    },
    {
      "cell_type": "code",
      "source": [
        "print(sequences[:,:-1].shape)\n",
        "sequences[:,:-1]"
      ],
      "metadata": {
        "colab": {
          "base_uri": "https://localhost:8080/"
        },
        "id": "4fqcVXaBVhBB",
        "outputId": "2595cd32-7417-44d1-e2e2-fa650062d366"
      },
      "execution_count": null,
      "outputs": [
        {
          "output_type": "stream",
          "name": "stdout",
          "text": [
            "(45253, 25)\n"
          ]
        },
        {
          "output_type": "execute_result",
          "data": {
            "text/plain": [
              "array([[ 187, 7000, 6999, ...,    2,  150,  431],\n",
              "       [7000, 6999,  516, ...,  150,  431,    5],\n",
              "       [6999,  516,   24, ...,  431,    5,  734],\n",
              "       ...,\n",
              "       [  86,  578,    7, ...,    1,  472,   14],\n",
              "       [ 578,    7,  171, ...,  472,   14,    1],\n",
              "       [   7,  171,    5, ...,   14,    1,  111]])"
            ]
          },
          "metadata": {},
          "execution_count": 49
        }
      ]
    },
    {
      "cell_type": "code",
      "source": [
        "# last Word\n",
        "print(sequences[:,-1].shape)\n",
        "sequences[:,-1]"
      ],
      "metadata": {
        "colab": {
          "base_uri": "https://localhost:8080/"
        },
        "id": "JE8Swe2HVokT",
        "outputId": "5e980573-8ad2-4d08-bfa2-f86414c328d7"
      },
      "execution_count": null,
      "outputs": [
        {
          "output_type": "stream",
          "name": "stdout",
          "text": [
            "(45253,)\n"
          ]
        },
        {
          "output_type": "execute_result",
          "data": {
            "text/plain": [
              "array([  5, 734,  24, ...,   1, 111, 577])"
            ]
          },
          "metadata": {},
          "execution_count": 50
        }
      ]
    },
    {
      "cell_type": "code",
      "source": [
        "X = sequences[:,:-1]"
      ],
      "metadata": {
        "id": "eHPwoA6ZWBpE"
      },
      "execution_count": null,
      "outputs": []
    },
    {
      "cell_type": "code",
      "source": [
        "X.shape"
      ],
      "metadata": {
        "colab": {
          "base_uri": "https://localhost:8080/"
        },
        "id": "QR1OaceRWaJa",
        "outputId": "7e43404f-1c62-4b21-e5d0-1c9f2c83c8e1"
      },
      "execution_count": null,
      "outputs": [
        {
          "output_type": "execute_result",
          "data": {
            "text/plain": [
              "(45253, 25)"
            ]
          },
          "metadata": {},
          "execution_count": 53
        }
      ]
    },
    {
      "cell_type": "code",
      "source": [
        "y = sequences[:,-1]"
      ],
      "metadata": {
        "id": "rcN_WufWWfk2"
      },
      "execution_count": null,
      "outputs": []
    },
    {
      "cell_type": "code",
      "source": [
        "y.shape"
      ],
      "metadata": {
        "id": "5q84r286WuUx",
        "outputId": "41d78caa-ab69-4602-f6df-8e09a62fc2bb",
        "colab": {
          "base_uri": "https://localhost:8080/"
        }
      },
      "execution_count": null,
      "outputs": [
        {
          "output_type": "execute_result",
          "data": {
            "text/plain": [
              "(45253,)"
            ]
          },
          "metadata": {},
          "execution_count": 55
        }
      ]
    },
    {
      "cell_type": "code",
      "source": [],
      "metadata": {
        "id": "0fy0qIZ5Wv_P"
      },
      "execution_count": null,
      "outputs": []
    }
  ]
}